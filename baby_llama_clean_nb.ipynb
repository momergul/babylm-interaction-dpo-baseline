{
 "cells": [
  {
   "cell_type": "markdown",
   "metadata": {},
   "source": [
    "# Basic data cleaning and tokenization"
   ]
  },
  {
   "cell_type": "markdown",
   "metadata": {},
   "source": [
    "Data cleaning script, taken from the BabyLlama repository (https://github.com/timinar/BabyLlama) of Timirsayov and Tastet, 2023.    "
   ]
  },
  {
   "cell_type": "markdown",
   "metadata": {},
   "source": [
    "## Cleaning\n",
    "\n",
    "Some simple, regex-based cleaning is performed on train and dev datasets, e.g. to remove HTML tags from Wikipedia articles, non-verbal cues from subtitles, or even to correct I’s that were incorrectly recognized as l’s in OCR’ed uppercase text."
   ]
  },
  {
   "cell_type": "code",
   "execution_count": 7,
   "metadata": {},
   "outputs": [],
   "source": [
    "from pathlib import Path\n",
    "from baby_llama_clean import *"
   ]
  },
  {
   "cell_type": "code",
   "execution_count": 10,
   "metadata": {},
   "outputs": [],
   "source": [
    "DATA_ROOT = Path('data/text_data')\n",
    "SEQ_LENGTH = 128\n",
    "DATA_SPLITS = ['train_100M', 'dev', 'test']\n",
    "\n",
    "CLEANUP_FUNCTIONS = {\n",
    "    'childes': cleanup_aochildes,\n",
    "    'bnc_spoken': cleanup_bnc_spoken,\n",
    "    'gutenberg': cleanup_gutenberg,\n",
    "    'open_subtitles': cleanup_open_subtitles,\n",
    "    'simple_wiki': cleanup_simple_wikipedia,\n",
    "    'switchboard': cleanup_switchboard,\n",
    "}\n"
   ]
  },
  {
   "cell_type": "code",
   "execution_count": 11,
   "metadata": {},
   "outputs": [
    {
     "name": "stdout",
     "output_type": "stream",
     "text": [
      "🧹 Cleaned 'open_subtitles.train' (size 106026268 -> 106007989) in train_100M\n",
      "🧹 Cleaned 'bnc_spoken.train' (size 40351645 -> 40108196) in train_100M\n",
      "🧹 Cleaned 'gutenberg.train' (size 144429471 -> 144429471) in train_100M\n",
      "🧹 Cleaned 'childes.train' (size 156960267 -> 156958053) in train_100M\n",
      "🧹 Cleaned 'simple_wiki.train' (size 85104519 -> 84872441) in train_100M\n",
      "🧹 Cleaned 'switchboard.train' (size 6586033 -> 6586033) in train_100M\n",
      "🧹 Cleaned 'simple_wiki.dev' (size 8149513 -> 8128239) in dev\n",
      "🧹 Cleaned 'childes.dev' (size 14638378 -> 14638168) in dev\n",
      "🧹 Cleaned 'switchboard.dev' (size 724013 -> 724013) in dev\n",
      "🧹 Cleaned 'open_subtitles.dev' (size 11016133 -> 11014854) in dev\n",
      "🧹 Cleaned 'gutenberg.dev' (size 15490473 -> 15490473) in dev\n",
      "🧹 Cleaned 'bnc_spoken.dev' (size 6538139 -> 6503778) in dev\n",
      "🧹 Cleaned 'childes.test' (size 14696551 -> 14696436) in test\n",
      "🧹 Cleaned 'switchboard.test' (size 823158 -> 823158) in test\n",
      "🧹 Cleaned 'bnc_spoken.test' (size 4888137 -> 4861019) in test\n",
      "🧹 Cleaned 'gutenberg.test' (size 13206732 -> 13206732) in test\n",
      "🧹 Cleaned 'open_subtitles.test' (size 10371565 -> 10370391) in test\n",
      "🧹 Cleaned 'simple_wiki.test' (size 7595809 -> 7574973) in test\n"
     ]
    }
   ],
   "source": [
    "for split in DATA_SPLITS:\n",
    "    INPUT_DIR = DATA_ROOT / split\n",
    "    OUTPUT_DIR = DATA_ROOT / f'clean_{split}'\n",
    "    OUTPUT_DIR.mkdir(exist_ok=True)\n",
    "\n",
    "    train_files = [f for f in INPUT_DIR.iterdir() if f.is_file() and f.suffix in ['.train', '.dev', '.test']]\n",
    "    \n",
    "    for file in train_files:\n",
    "        text = file.read_text()\n",
    "        cleaned_text = CLEANUP_FUNCTIONS[file.stem](text, SEQ_LENGTH)\n",
    "        (OUTPUT_DIR / file.name).write_text(cleaned_text)\n",
    "        print(f\"🧹 Cleaned '{file.name}' (size {len(text)} -> {len(cleaned_text)}) in {split}\")\n"
   ]
  },
  {
   "cell_type": "code",
   "execution_count": null,
   "metadata": {},
   "outputs": [],
   "source": []
  }
 ],
 "metadata": {
  "kernelspec": {
   "display_name": "Python 3 (ipykernel)",
   "language": "python",
   "name": "python3"
  },
  "language_info": {
   "codemirror_mode": {
    "name": "ipython",
    "version": 3
   },
   "file_extension": ".py",
   "mimetype": "text/x-python",
   "name": "python",
   "nbconvert_exporter": "python",
   "pygments_lexer": "ipython3",
   "version": "3.10.16"
  }
 },
 "nbformat": 4,
 "nbformat_minor": 4
}
